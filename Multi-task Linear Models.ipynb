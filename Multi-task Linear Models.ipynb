{
 "cells": [
  {
   "cell_type": "markdown",
   "id": "60da11bb",
   "metadata": {},
   "source": [
    "# Multi task linear models\n",
    "Estos modelos son utilizados cuando se requiere modelar la relacion de los datos de entrada con mas de un dato de salida.\n",
    "Dos de ellos son: Multi-task Lasso regresion y Multi-task Elastic-Net"
   ]
  },
  {
   "cell_type": "code",
   "execution_count": 1,
   "id": "0562e77a",
   "metadata": {},
   "outputs": [],
   "source": [
    "import pandas as pd\n",
    "import numpy as np\n",
    "import matplotlib.pyplot as plt\n",
    "from sklearn.model_selection import train_test_split, cross_val_score, GridSearchCV"
   ]
  },
  {
   "cell_type": "code",
   "execution_count": 2,
   "id": "3b683bde",
   "metadata": {},
   "outputs": [],
   "source": [
    "df = pd.read_excel('Viscosity MW.xlsx')"
   ]
  },
  {
   "cell_type": "code",
   "execution_count": 3,
   "id": "ac49654c",
   "metadata": {},
   "outputs": [
    {
     "data": {
      "text/html": [
       "<div>\n",
       "<style scoped>\n",
       "    .dataframe tbody tr th:only-of-type {\n",
       "        vertical-align: middle;\n",
       "    }\n",
       "\n",
       "    .dataframe tbody tr th {\n",
       "        vertical-align: top;\n",
       "    }\n",
       "\n",
       "    .dataframe thead th {\n",
       "        text-align: right;\n",
       "    }\n",
       "</style>\n",
       "<table border=\"1\" class=\"dataframe\">\n",
       "  <thead>\n",
       "    <tr style=\"text-align: right;\">\n",
       "      <th></th>\n",
       "      <th>Viscosity</th>\n",
       "      <th>Temp</th>\n",
       "      <th>Stir</th>\n",
       "      <th>Time</th>\n",
       "      <th>MW</th>\n",
       "    </tr>\n",
       "  </thead>\n",
       "  <tbody>\n",
       "    <tr>\n",
       "      <th>0</th>\n",
       "      <td>2750.0</td>\n",
       "      <td>147.0</td>\n",
       "      <td>57.0</td>\n",
       "      <td>170.0</td>\n",
       "      <td>3446.465952</td>\n",
       "    </tr>\n",
       "    <tr>\n",
       "      <th>1</th>\n",
       "      <td>2900.0</td>\n",
       "      <td>164.0</td>\n",
       "      <td>49.0</td>\n",
       "      <td>130.0</td>\n",
       "      <td>3574.074427</td>\n",
       "    </tr>\n",
       "    <tr>\n",
       "      <th>2</th>\n",
       "      <td>2630.0</td>\n",
       "      <td>141.0</td>\n",
       "      <td>47.0</td>\n",
       "      <td>160.0</td>\n",
       "      <td>3227.380306</td>\n",
       "    </tr>\n",
       "    <tr>\n",
       "      <th>3</th>\n",
       "      <td>2800.0</td>\n",
       "      <td>164.0</td>\n",
       "      <td>74.0</td>\n",
       "      <td>135.0</td>\n",
       "      <td>3477.028623</td>\n",
       "    </tr>\n",
       "    <tr>\n",
       "      <th>4</th>\n",
       "      <td>3000.0</td>\n",
       "      <td>132.0</td>\n",
       "      <td>65.0</td>\n",
       "      <td>150.0</td>\n",
       "      <td>3692.104936</td>\n",
       "    </tr>\n",
       "  </tbody>\n",
       "</table>\n",
       "</div>"
      ],
      "text/plain": [
       "   Viscosity   Temp  Stir   Time           MW\n",
       "0     2750.0  147.0  57.0  170.0  3446.465952\n",
       "1     2900.0  164.0  49.0  130.0  3574.074427\n",
       "2     2630.0  141.0  47.0  160.0  3227.380306\n",
       "3     2800.0  164.0  74.0  135.0  3477.028623\n",
       "4     3000.0  132.0  65.0  150.0  3692.104936"
      ]
     },
     "execution_count": 3,
     "metadata": {},
     "output_type": "execute_result"
    }
   ],
   "source": [
    "df.head()"
   ]
  },
  {
   "cell_type": "code",
   "execution_count": 4,
   "id": "d5fb26fc",
   "metadata": {},
   "outputs": [
    {
     "name": "stdout",
     "output_type": "stream",
     "text": [
      "<class 'pandas.core.frame.DataFrame'>\n",
      "RangeIndex: 170 entries, 0 to 169\n",
      "Data columns (total 5 columns):\n",
      " #   Column     Non-Null Count  Dtype  \n",
      "---  ------     --------------  -----  \n",
      " 0   Viscosity  170 non-null    float64\n",
      " 1   Temp       170 non-null    float64\n",
      " 2   Stir       170 non-null    float64\n",
      " 3   Time       170 non-null    float64\n",
      " 4   MW         170 non-null    float64\n",
      "dtypes: float64(5)\n",
      "memory usage: 6.8 KB\n"
     ]
    }
   ],
   "source": [
    "df.info()"
   ]
  },
  {
   "cell_type": "code",
   "execution_count": 5,
   "id": "d5dd57ef",
   "metadata": {},
   "outputs": [
    {
     "data": {
      "text/html": [
       "<div>\n",
       "<style scoped>\n",
       "    .dataframe tbody tr th:only-of-type {\n",
       "        vertical-align: middle;\n",
       "    }\n",
       "\n",
       "    .dataframe tbody tr th {\n",
       "        vertical-align: top;\n",
       "    }\n",
       "\n",
       "    .dataframe thead th {\n",
       "        text-align: right;\n",
       "    }\n",
       "</style>\n",
       "<table border=\"1\" class=\"dataframe\">\n",
       "  <thead>\n",
       "    <tr style=\"text-align: right;\">\n",
       "      <th></th>\n",
       "      <th>Viscosity</th>\n",
       "      <th>Temp</th>\n",
       "      <th>Stir</th>\n",
       "      <th>Time</th>\n",
       "      <th>MW</th>\n",
       "    </tr>\n",
       "  </thead>\n",
       "  <tbody>\n",
       "    <tr>\n",
       "      <th>count</th>\n",
       "      <td>170.000000</td>\n",
       "      <td>170.000000</td>\n",
       "      <td>170.000000</td>\n",
       "      <td>170.000000</td>\n",
       "      <td>170.000000</td>\n",
       "    </tr>\n",
       "    <tr>\n",
       "      <th>mean</th>\n",
       "      <td>1828.411765</td>\n",
       "      <td>113.029412</td>\n",
       "      <td>98.352941</td>\n",
       "      <td>131.058824</td>\n",
       "      <td>2296.366323</td>\n",
       "    </tr>\n",
       "    <tr>\n",
       "      <th>std</th>\n",
       "      <td>883.228221</td>\n",
       "      <td>46.024900</td>\n",
       "      <td>42.975211</td>\n",
       "      <td>41.864491</td>\n",
       "      <td>1059.612832</td>\n",
       "    </tr>\n",
       "    <tr>\n",
       "      <th>min</th>\n",
       "      <td>254.000000</td>\n",
       "      <td>36.000000</td>\n",
       "      <td>28.200000</td>\n",
       "      <td>59.400000</td>\n",
       "      <td>388.867110</td>\n",
       "    </tr>\n",
       "    <tr>\n",
       "      <th>25%</th>\n",
       "      <td>1192.500000</td>\n",
       "      <td>78.000000</td>\n",
       "      <td>66.250000</td>\n",
       "      <td>96.800000</td>\n",
       "      <td>1544.479133</td>\n",
       "    </tr>\n",
       "    <tr>\n",
       "      <th>50%</th>\n",
       "      <td>1796.000000</td>\n",
       "      <td>106.000000</td>\n",
       "      <td>90.500000</td>\n",
       "      <td>127.000000</td>\n",
       "      <td>2237.224118</td>\n",
       "    </tr>\n",
       "    <tr>\n",
       "      <th>75%</th>\n",
       "      <td>2533.000000</td>\n",
       "      <td>144.100000</td>\n",
       "      <td>124.000000</td>\n",
       "      <td>161.750000</td>\n",
       "      <td>3139.112374</td>\n",
       "    </tr>\n",
       "    <tr>\n",
       "      <th>max</th>\n",
       "      <td>3877.000000</td>\n",
       "      <td>229.600000</td>\n",
       "      <td>214.200000</td>\n",
       "      <td>238.000000</td>\n",
       "      <td>4751.105398</td>\n",
       "    </tr>\n",
       "  </tbody>\n",
       "</table>\n",
       "</div>"
      ],
      "text/plain": [
       "         Viscosity        Temp        Stir        Time           MW\n",
       "count   170.000000  170.000000  170.000000  170.000000   170.000000\n",
       "mean   1828.411765  113.029412   98.352941  131.058824  2296.366323\n",
       "std     883.228221   46.024900   42.975211   41.864491  1059.612832\n",
       "min     254.000000   36.000000   28.200000   59.400000   388.867110\n",
       "25%    1192.500000   78.000000   66.250000   96.800000  1544.479133\n",
       "50%    1796.000000  106.000000   90.500000  127.000000  2237.224118\n",
       "75%    2533.000000  144.100000  124.000000  161.750000  3139.112374\n",
       "max    3877.000000  229.600000  214.200000  238.000000  4751.105398"
      ]
     },
     "execution_count": 5,
     "metadata": {},
     "output_type": "execute_result"
    }
   ],
   "source": [
    "df.describe()"
   ]
  },
  {
   "cell_type": "code",
   "execution_count": 6,
   "id": "9ce36fcd",
   "metadata": {},
   "outputs": [],
   "source": [
    "X = df.drop(['Viscosity'], axis=1)"
   ]
  },
  {
   "cell_type": "code",
   "execution_count": 7,
   "id": "e353af52",
   "metadata": {},
   "outputs": [],
   "source": [
    "X = X.drop(['MW'], axis=1)"
   ]
  },
  {
   "cell_type": "code",
   "execution_count": 9,
   "id": "374d81df",
   "metadata": {},
   "outputs": [
    {
     "data": {
      "text/html": [
       "<div>\n",
       "<style scoped>\n",
       "    .dataframe tbody tr th:only-of-type {\n",
       "        vertical-align: middle;\n",
       "    }\n",
       "\n",
       "    .dataframe tbody tr th {\n",
       "        vertical-align: top;\n",
       "    }\n",
       "\n",
       "    .dataframe thead th {\n",
       "        text-align: right;\n",
       "    }\n",
       "</style>\n",
       "<table border=\"1\" class=\"dataframe\">\n",
       "  <thead>\n",
       "    <tr style=\"text-align: right;\">\n",
       "      <th></th>\n",
       "      <th>Viscosity</th>\n",
       "      <th>MW</th>\n",
       "    </tr>\n",
       "  </thead>\n",
       "  <tbody>\n",
       "    <tr>\n",
       "      <th>0</th>\n",
       "      <td>2750.0</td>\n",
       "      <td>3446.465952</td>\n",
       "    </tr>\n",
       "    <tr>\n",
       "      <th>1</th>\n",
       "      <td>2900.0</td>\n",
       "      <td>3574.074427</td>\n",
       "    </tr>\n",
       "    <tr>\n",
       "      <th>2</th>\n",
       "      <td>2630.0</td>\n",
       "      <td>3227.380306</td>\n",
       "    </tr>\n",
       "    <tr>\n",
       "      <th>3</th>\n",
       "      <td>2800.0</td>\n",
       "      <td>3477.028623</td>\n",
       "    </tr>\n",
       "    <tr>\n",
       "      <th>4</th>\n",
       "      <td>3000.0</td>\n",
       "      <td>3692.104936</td>\n",
       "    </tr>\n",
       "  </tbody>\n",
       "</table>\n",
       "</div>"
      ],
      "text/plain": [
       "   Viscosity           MW\n",
       "0     2750.0  3446.465952\n",
       "1     2900.0  3574.074427\n",
       "2     2630.0  3227.380306\n",
       "3     2800.0  3477.028623\n",
       "4     3000.0  3692.104936"
      ]
     },
     "execution_count": 9,
     "metadata": {},
     "output_type": "execute_result"
    }
   ],
   "source": [
    "y = df[['Viscosity', 'MW']]\n",
    "y.head()"
   ]
  },
  {
   "cell_type": "markdown",
   "id": "a48e7f1d",
   "metadata": {},
   "source": [
    "### Estandarizado de datos"
   ]
  },
  {
   "cell_type": "code",
   "execution_count": 10,
   "id": "85425563",
   "metadata": {},
   "outputs": [],
   "source": [
    "from sklearn.preprocessing import StandardScaler\n",
    "X1 = StandardScaler().fit_transform(X)"
   ]
  },
  {
   "cell_type": "markdown",
   "id": "17969ce0",
   "metadata": {},
   "source": [
    "### Se convierten los datos en una matriz polinomial de grado 2"
   ]
  },
  {
   "cell_type": "code",
   "execution_count": 11,
   "id": "4c6b0a21",
   "metadata": {},
   "outputs": [],
   "source": [
    "from sklearn.preprocessing import PolynomialFeatures\n",
    "poly = PolynomialFeatures(degree=2, include_bias=False)\n",
    "X2 = poly.fit_transform(X1)"
   ]
  },
  {
   "cell_type": "code",
   "execution_count": 12,
   "id": "2c9e21d2",
   "metadata": {},
   "outputs": [],
   "source": [
    "# Separar en conjuntos de entrenamiento y testing\n",
    "X_train, X_test, y_train, y_test = train_test_split(X2, y, test_size = 0.25, random_state=27)"
   ]
  },
  {
   "cell_type": "code",
   "execution_count": 13,
   "id": "42becd2e",
   "metadata": {},
   "outputs": [],
   "source": [
    "# Define a function to get cross validation scores\n",
    "def get_cv_scores(model):\n",
    "    scores = cross_val_score(model, X_train, y_train, cv=5, scoring='r2')\n",
    "    print(\"CV Mean: \", np.mean(scores))\n",
    "    print(\"STD: \", np.std(scores))\n",
    "    print(\"\\n\")"
   ]
  },
  {
   "cell_type": "code",
   "execution_count": 14,
   "id": "a23a731e",
   "metadata": {},
   "outputs": [],
   "source": [
    "from sklearn.linear_model import MultiTaskLasso"
   ]
  },
  {
   "cell_type": "code",
   "execution_count": 15,
   "id": "b165e4ae",
   "metadata": {},
   "outputs": [
    {
     "data": {
      "text/html": [
       "<style>#sk-container-id-1 {color: black;background-color: white;}#sk-container-id-1 pre{padding: 0;}#sk-container-id-1 div.sk-toggleable {background-color: white;}#sk-container-id-1 label.sk-toggleable__label {cursor: pointer;display: block;width: 100%;margin-bottom: 0;padding: 0.3em;box-sizing: border-box;text-align: center;}#sk-container-id-1 label.sk-toggleable__label-arrow:before {content: \"▸\";float: left;margin-right: 0.25em;color: #696969;}#sk-container-id-1 label.sk-toggleable__label-arrow:hover:before {color: black;}#sk-container-id-1 div.sk-estimator:hover label.sk-toggleable__label-arrow:before {color: black;}#sk-container-id-1 div.sk-toggleable__content {max-height: 0;max-width: 0;overflow: hidden;text-align: left;background-color: #f0f8ff;}#sk-container-id-1 div.sk-toggleable__content pre {margin: 0.2em;color: black;border-radius: 0.25em;background-color: #f0f8ff;}#sk-container-id-1 input.sk-toggleable__control:checked~div.sk-toggleable__content {max-height: 200px;max-width: 100%;overflow: auto;}#sk-container-id-1 input.sk-toggleable__control:checked~label.sk-toggleable__label-arrow:before {content: \"▾\";}#sk-container-id-1 div.sk-estimator input.sk-toggleable__control:checked~label.sk-toggleable__label {background-color: #d4ebff;}#sk-container-id-1 div.sk-label input.sk-toggleable__control:checked~label.sk-toggleable__label {background-color: #d4ebff;}#sk-container-id-1 input.sk-hidden--visually {border: 0;clip: rect(1px 1px 1px 1px);clip: rect(1px, 1px, 1px, 1px);height: 1px;margin: -1px;overflow: hidden;padding: 0;position: absolute;width: 1px;}#sk-container-id-1 div.sk-estimator {font-family: monospace;background-color: #f0f8ff;border: 1px dotted black;border-radius: 0.25em;box-sizing: border-box;margin-bottom: 0.5em;}#sk-container-id-1 div.sk-estimator:hover {background-color: #d4ebff;}#sk-container-id-1 div.sk-parallel-item::after {content: \"\";width: 100%;border-bottom: 1px solid gray;flex-grow: 1;}#sk-container-id-1 div.sk-label:hover label.sk-toggleable__label {background-color: #d4ebff;}#sk-container-id-1 div.sk-serial::before {content: \"\";position: absolute;border-left: 1px solid gray;box-sizing: border-box;top: 0;bottom: 0;left: 50%;z-index: 0;}#sk-container-id-1 div.sk-serial {display: flex;flex-direction: column;align-items: center;background-color: white;padding-right: 0.2em;padding-left: 0.2em;position: relative;}#sk-container-id-1 div.sk-item {position: relative;z-index: 1;}#sk-container-id-1 div.sk-parallel {display: flex;align-items: stretch;justify-content: center;background-color: white;position: relative;}#sk-container-id-1 div.sk-item::before, #sk-container-id-1 div.sk-parallel-item::before {content: \"\";position: absolute;border-left: 1px solid gray;box-sizing: border-box;top: 0;bottom: 0;left: 50%;z-index: -1;}#sk-container-id-1 div.sk-parallel-item {display: flex;flex-direction: column;z-index: 1;position: relative;background-color: white;}#sk-container-id-1 div.sk-parallel-item:first-child::after {align-self: flex-end;width: 50%;}#sk-container-id-1 div.sk-parallel-item:last-child::after {align-self: flex-start;width: 50%;}#sk-container-id-1 div.sk-parallel-item:only-child::after {width: 0;}#sk-container-id-1 div.sk-dashed-wrapped {border: 1px dashed gray;margin: 0 0.4em 0.5em 0.4em;box-sizing: border-box;padding-bottom: 0.4em;background-color: white;}#sk-container-id-1 div.sk-label label {font-family: monospace;font-weight: bold;display: inline-block;line-height: 1.2em;}#sk-container-id-1 div.sk-label-container {text-align: center;}#sk-container-id-1 div.sk-container {/* jupyter's `normalize.less` sets `[hidden] { display: none; }` but bootstrap.min.css set `[hidden] { display: none !important; }` so we also need the `!important` here to be able to override the default hidden behavior on the sphinx rendered scikit-learn.org. See: https://github.com/scikit-learn/scikit-learn/issues/21755 */display: inline-block !important;position: relative;}#sk-container-id-1 div.sk-text-repr-fallback {display: none;}</style><div id=\"sk-container-id-1\" class=\"sk-top-container\"><div class=\"sk-text-repr-fallback\"><pre>MultiTaskLasso(max_iter=100000)</pre><b>In a Jupyter environment, please rerun this cell to show the HTML representation or trust the notebook. <br />On GitHub, the HTML representation is unable to render, please try loading this page with nbviewer.org.</b></div><div class=\"sk-container\" hidden><div class=\"sk-item\"><div class=\"sk-estimator sk-toggleable\"><input class=\"sk-toggleable__control sk-hidden--visually\" id=\"sk-estimator-id-1\" type=\"checkbox\" checked><label for=\"sk-estimator-id-1\" class=\"sk-toggleable__label sk-toggleable__label-arrow\">MultiTaskLasso</label><div class=\"sk-toggleable__content\"><pre>MultiTaskLasso(max_iter=100000)</pre></div></div></div></div></div>"
      ],
      "text/plain": [
       "MultiTaskLasso(max_iter=100000)"
      ]
     },
     "execution_count": 15,
     "metadata": {},
     "output_type": "execute_result"
    }
   ],
   "source": [
    "reg = MultiTaskLasso(max_iter=100000)\n",
    "reg.fit(X_train, y_train)"
   ]
  },
  {
   "cell_type": "code",
   "execution_count": 16,
   "id": "8f68f4ff",
   "metadata": {},
   "outputs": [
    {
     "name": "stdout",
     "output_type": "stream",
     "text": [
      "CV Mean:  0.7727844670222137\n",
      "STD:  0.06994400576445185\n",
      "\n",
      "\n",
      "Train Score:  0.8199776397694589\n",
      "Test Score:  0.6231503931418352\n"
     ]
    }
   ],
   "source": [
    "get_cv_scores(reg)\n",
    "print('Train Score: ', reg.score(X_train, y_train))\n",
    "print('Test Score: ', reg.score(X_test, y_test))"
   ]
  },
  {
   "cell_type": "code",
   "execution_count": 20,
   "id": "1ff97fbc",
   "metadata": {},
   "outputs": [
    {
     "name": "stdout",
     "output_type": "stream",
     "text": [
      "Best Score:  0.774080323534563\n",
      "Best Params:  {'alpha': 0.0001}\n"
     ]
    }
   ],
   "source": [
    "# Find iptimal alpha with grid search\n",
    "alpha = np.logspace(-4,4,9)\n",
    "param_grid = dict(alpha=alpha)\n",
    "grid = GridSearchCV(estimator=reg, param_grid=param_grid, scoring='r2', n_jobs=-1)\n",
    "grid_result = grid.fit(X_train, y_train)\n",
    "print('Best Score: ', grid_result.best_score_)\n",
    "print('Best Params: ', grid_result.best_params_)"
   ]
  },
  {
   "cell_type": "code",
   "execution_count": 28,
   "id": "f0a45a48",
   "metadata": {},
   "outputs": [
    {
     "data": {
      "text/html": [
       "<style>#sk-container-id-3 {color: black;background-color: white;}#sk-container-id-3 pre{padding: 0;}#sk-container-id-3 div.sk-toggleable {background-color: white;}#sk-container-id-3 label.sk-toggleable__label {cursor: pointer;display: block;width: 100%;margin-bottom: 0;padding: 0.3em;box-sizing: border-box;text-align: center;}#sk-container-id-3 label.sk-toggleable__label-arrow:before {content: \"▸\";float: left;margin-right: 0.25em;color: #696969;}#sk-container-id-3 label.sk-toggleable__label-arrow:hover:before {color: black;}#sk-container-id-3 div.sk-estimator:hover label.sk-toggleable__label-arrow:before {color: black;}#sk-container-id-3 div.sk-toggleable__content {max-height: 0;max-width: 0;overflow: hidden;text-align: left;background-color: #f0f8ff;}#sk-container-id-3 div.sk-toggleable__content pre {margin: 0.2em;color: black;border-radius: 0.25em;background-color: #f0f8ff;}#sk-container-id-3 input.sk-toggleable__control:checked~div.sk-toggleable__content {max-height: 200px;max-width: 100%;overflow: auto;}#sk-container-id-3 input.sk-toggleable__control:checked~label.sk-toggleable__label-arrow:before {content: \"▾\";}#sk-container-id-3 div.sk-estimator input.sk-toggleable__control:checked~label.sk-toggleable__label {background-color: #d4ebff;}#sk-container-id-3 div.sk-label input.sk-toggleable__control:checked~label.sk-toggleable__label {background-color: #d4ebff;}#sk-container-id-3 input.sk-hidden--visually {border: 0;clip: rect(1px 1px 1px 1px);clip: rect(1px, 1px, 1px, 1px);height: 1px;margin: -1px;overflow: hidden;padding: 0;position: absolute;width: 1px;}#sk-container-id-3 div.sk-estimator {font-family: monospace;background-color: #f0f8ff;border: 1px dotted black;border-radius: 0.25em;box-sizing: border-box;margin-bottom: 0.5em;}#sk-container-id-3 div.sk-estimator:hover {background-color: #d4ebff;}#sk-container-id-3 div.sk-parallel-item::after {content: \"\";width: 100%;border-bottom: 1px solid gray;flex-grow: 1;}#sk-container-id-3 div.sk-label:hover label.sk-toggleable__label {background-color: #d4ebff;}#sk-container-id-3 div.sk-serial::before {content: \"\";position: absolute;border-left: 1px solid gray;box-sizing: border-box;top: 0;bottom: 0;left: 50%;z-index: 0;}#sk-container-id-3 div.sk-serial {display: flex;flex-direction: column;align-items: center;background-color: white;padding-right: 0.2em;padding-left: 0.2em;position: relative;}#sk-container-id-3 div.sk-item {position: relative;z-index: 1;}#sk-container-id-3 div.sk-parallel {display: flex;align-items: stretch;justify-content: center;background-color: white;position: relative;}#sk-container-id-3 div.sk-item::before, #sk-container-id-3 div.sk-parallel-item::before {content: \"\";position: absolute;border-left: 1px solid gray;box-sizing: border-box;top: 0;bottom: 0;left: 50%;z-index: -1;}#sk-container-id-3 div.sk-parallel-item {display: flex;flex-direction: column;z-index: 1;position: relative;background-color: white;}#sk-container-id-3 div.sk-parallel-item:first-child::after {align-self: flex-end;width: 50%;}#sk-container-id-3 div.sk-parallel-item:last-child::after {align-self: flex-start;width: 50%;}#sk-container-id-3 div.sk-parallel-item:only-child::after {width: 0;}#sk-container-id-3 div.sk-dashed-wrapped {border: 1px dashed gray;margin: 0 0.4em 0.5em 0.4em;box-sizing: border-box;padding-bottom: 0.4em;background-color: white;}#sk-container-id-3 div.sk-label label {font-family: monospace;font-weight: bold;display: inline-block;line-height: 1.2em;}#sk-container-id-3 div.sk-label-container {text-align: center;}#sk-container-id-3 div.sk-container {/* jupyter's `normalize.less` sets `[hidden] { display: none; }` but bootstrap.min.css set `[hidden] { display: none !important; }` so we also need the `!important` here to be able to override the default hidden behavior on the sphinx rendered scikit-learn.org. See: https://github.com/scikit-learn/scikit-learn/issues/21755 */display: inline-block !important;position: relative;}#sk-container-id-3 div.sk-text-repr-fallback {display: none;}</style><div id=\"sk-container-id-3\" class=\"sk-top-container\"><div class=\"sk-text-repr-fallback\"><pre>MultiTaskLasso(alpha=0.0001)</pre><b>In a Jupyter environment, please rerun this cell to show the HTML representation or trust the notebook. <br />On GitHub, the HTML representation is unable to render, please try loading this page with nbviewer.org.</b></div><div class=\"sk-container\" hidden><div class=\"sk-item\"><div class=\"sk-estimator sk-toggleable\"><input class=\"sk-toggleable__control sk-hidden--visually\" id=\"sk-estimator-id-3\" type=\"checkbox\" checked><label for=\"sk-estimator-id-3\" class=\"sk-toggleable__label sk-toggleable__label-arrow\">MultiTaskLasso</label><div class=\"sk-toggleable__content\"><pre>MultiTaskLasso(alpha=0.0001)</pre></div></div></div></div></div>"
      ],
      "text/plain": [
       "MultiTaskLasso(alpha=0.0001)"
      ]
     },
     "execution_count": 28,
     "metadata": {},
     "output_type": "execute_result"
    }
   ],
   "source": [
    "# Ahora se ejecuta con los mejores parametros\n",
    "reg = MultiTaskLasso(alpha=0.0001)\n",
    "reg.fit(X_train, y_train)"
   ]
  },
  {
   "cell_type": "code",
   "execution_count": 29,
   "id": "87b7057b",
   "metadata": {},
   "outputs": [
    {
     "name": "stdout",
     "output_type": "stream",
     "text": [
      "CV Mean:  0.774080323534563\n",
      "STD:  0.06934248395658801\n",
      "\n",
      "\n",
      "Train Score:  0.8201625364790468\n",
      "Test Score:  0.6173433807349122\n"
     ]
    }
   ],
   "source": [
    "get_cv_scores(reg)\n",
    "print('Train Score: ', reg.score(X_train, y_train))\n",
    "print('Test Score: ', reg.score(X_test, y_test))"
   ]
  },
  {
   "cell_type": "code",
   "execution_count": 30,
   "id": "70e83c24",
   "metadata": {},
   "outputs": [
    {
     "data": {
      "text/plain": [
       "array([1928.93791513, 2424.86970301])"
      ]
     },
     "execution_count": 30,
     "metadata": {},
     "output_type": "execute_result"
    }
   ],
   "source": [
    "reg.intercept_"
   ]
  },
  {
   "cell_type": "code",
   "execution_count": 31,
   "id": "335c7c81",
   "metadata": {},
   "outputs": [
    {
     "data": {
      "text/plain": [
       "array([[ 404.65015242, -264.50715636,  531.60941176, -199.18273726,\n",
       "        -161.45728461,  655.36295081,  -93.24028119,  278.02432962,\n",
       "        -416.91425853],\n",
       "       [ 485.9499356 , -318.96009704,  641.29754926, -243.57942818,\n",
       "        -196.1485825 ,  793.14544695, -111.37782069,  334.22040534,\n",
       "        -509.24678373]])"
      ]
     },
     "execution_count": 31,
     "metadata": {},
     "output_type": "execute_result"
    }
   ],
   "source": [
    "coef = reg.coef_\n",
    "coef"
   ]
  },
  {
   "cell_type": "code",
   "execution_count": 32,
   "id": "dfe57be2",
   "metadata": {},
   "outputs": [
    {
     "data": {
      "text/plain": [
       "array([ 404.65015242, -264.50715636,  531.60941176, -199.18273726,\n",
       "       -161.45728461,  655.36295081,  -93.24028119,  278.02432962,\n",
       "       -416.91425853])"
      ]
     },
     "execution_count": 32,
     "metadata": {},
     "output_type": "execute_result"
    }
   ],
   "source": [
    "coef1 = coef[0,:]\n",
    "coef1"
   ]
  },
  {
   "cell_type": "code",
   "execution_count": 33,
   "id": "9f120e01",
   "metadata": {},
   "outputs": [
    {
     "data": {
      "text/plain": [
       "array([ 485.9499356 , -318.96009704,  641.29754926, -243.57942818,\n",
       "       -196.1485825 ,  793.14544695, -111.37782069,  334.22040534,\n",
       "       -509.24678373])"
      ]
     },
     "execution_count": 33,
     "metadata": {},
     "output_type": "execute_result"
    }
   ],
   "source": [
    "coef2 = coef[1,:]\n",
    "coef2"
   ]
  },
  {
   "cell_type": "code",
   "execution_count": 34,
   "id": "ba8820a7",
   "metadata": {},
   "outputs": [],
   "source": [
    "terms = ['Temp', 'Stir', 'Time', 'Temp*Temp','Temp*Stir', 'Temp*Time', 'Stir*Stir', 'Stir*Time', 'Time*Time']"
   ]
  },
  {
   "cell_type": "code",
   "execution_count": 35,
   "id": "f938ed7e",
   "metadata": {},
   "outputs": [
    {
     "name": "stdout",
     "output_type": "stream",
     "text": [
      "Temp:404.6501524233188\n",
      "Stir:-264.5071563568094\n",
      "Time:531.6094117565023\n",
      "Temp*Temp:-199.18273726383734\n",
      "Temp*Stir:-161.45728460657114\n",
      "Temp*Time:655.3629508052393\n",
      "Stir*Stir:-93.2402811928068\n",
      "Stir*Time:278.0243296244155\n",
      "Time*Time:-416.9142585271541\n"
     ]
    }
   ],
   "source": [
    "for coef, term in enumerate(terms):\n",
    "    print(f'{term}:{coef1[coef]}')"
   ]
  },
  {
   "cell_type": "code",
   "execution_count": 36,
   "id": "713ecb54",
   "metadata": {},
   "outputs": [
    {
     "data": {
      "image/png": "[encoded data removed]",
      "text/plain": [
       "<Figure size 840x480 with 1 Axes>"
      ]
     },
     "metadata": {},
     "output_type": "display_data"
    }
   ],
   "source": [
    "_ = plt.figure(figsize=[8.4,4.8])\n",
    "_ = plt.plot(range(len(terms)), coef1)\n",
    "_ = plt.xticks(range(len(terms)), terms, rotation=90)\n",
    "_ = plt.ylabel('Coefficients of Viscosity')\n",
    "plt.show()"
   ]
  },
  {
   "cell_type": "code",
   "execution_count": 37,
   "id": "ddd5f7a3",
   "metadata": {},
   "outputs": [
    {
     "name": "stdout",
     "output_type": "stream",
     "text": [
      "Temp:485.9499356010131\n",
      "Stir:-318.9600970441689\n",
      "Time:641.2975492577226\n",
      "Temp*Temp:-243.5794281765584\n",
      "Temp*Stir:-196.1485825042709\n",
      "Temp*Time:793.1454469540184\n",
      "Stir*Stir:-111.37782068756079\n",
      "Stir*Time:334.2204053354204\n",
      "Time*Time:-509.2467837334409\n"
     ]
    }
   ],
   "source": [
    "for coef, term in enumerate(terms):\n",
    "    print(f'{term}:{coef2[coef]}')"
   ]
  },
  {
   "cell_type": "code",
   "execution_count": 38,
   "id": "945a8a92",
   "metadata": {},
   "outputs": [
    {
     "data": {
      "image/png": "[encoded data removed]",
      "text/plain": [
       "<Figure size 840x480 with 1 Axes>"
      ]
     },
     "metadata": {},
     "output_type": "display_data"
    }
   ],
   "source": [
    "_ = plt.figure(figsize=[8.4,4.8])\n",
    "_ = plt.plot(range(len(terms)), coef2)\n",
    "_ = plt.xticks(range(len(terms)), terms, rotation=90)\n",
    "_ = plt.ylabel('Coefficients of MW')\n",
    "plt.show()"
   ]
  },
  {
   "cell_type": "markdown",
   "id": "c186cadd",
   "metadata": {},
   "source": [
    "Para la regresion ElasticNet se hace de la misma manera que la Lasso, tomando en cuenta que ElasticNet cuenta con dos hyperparametros en lugar de uno. Consultar capitulo 5"
   ]
  },
  {
   "cell_type": "code",
   "execution_count": null,
   "id": "ce668f1d",
   "metadata": {},
   "outputs": [],
   "source": []
  }
 ],
 "metadata": {
  "kernelspec": {
   "display_name": "Python 3 (ipykernel)",
   "language": "python",
   "name": "python3"
  },
  "language_info": {
   "codemirror_mode": {
    "name": "ipython",
    "version": 3
   },
   "file_extension": ".py",
   "mimetype": "text/x-python",
   "name": "python",
   "nbconvert_exporter": "python",
   "pygments_lexer": "ipython3",
   "version": "3.9.16"
  }
 },
 "nbformat": 4,
 "nbformat_minor": 5
}
