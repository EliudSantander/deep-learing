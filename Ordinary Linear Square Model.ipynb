{
 "cells": [
  {
   "cell_type": "code",
   "execution_count": 2,
   "id": "98e80221",
   "metadata": {},
   "outputs": [],
   "source": [
    "# Importando las librerias\n",
    "import matplotlib.pyplot as plt\n",
    "import numpy as np\n",
    "import pandas as pd"
   ]
  },
  {
   "cell_type": "markdown",
   "id": "15f5624b",
   "metadata": {},
   "source": [
    "## Cargando el conjunto de datos"
   ]
  },
  {
   "cell_type": "code",
   "execution_count": 3,
   "id": "c3742e5c",
   "metadata": {},
   "outputs": [],
   "source": [
    "df = pd.read_excel('case_fit_regression_model.xlsx')"
   ]
  },
  {
   "cell_type": "code",
   "execution_count": 3,
   "id": "310ffd40",
   "metadata": {},
   "outputs": [
    {
     "data": {
      "text/html": [
       "<div>\n",
       "<style scoped>\n",
       "    .dataframe tbody tr th:only-of-type {\n",
       "        vertical-align: middle;\n",
       "    }\n",
       "\n",
       "    .dataframe tbody tr th {\n",
       "        vertical-align: top;\n",
       "    }\n",
       "\n",
       "    .dataframe thead th {\n",
       "        text-align: right;\n",
       "    }\n",
       "</style>\n",
       "<table border=\"1\" class=\"dataframe\">\n",
       "  <thead>\n",
       "    <tr style=\"text-align: right;\">\n",
       "      <th></th>\n",
       "      <th>Viscosity</th>\n",
       "      <th>Temp</th>\n",
       "      <th>Stir</th>\n",
       "      <th>Time</th>\n",
       "    </tr>\n",
       "  </thead>\n",
       "  <tbody>\n",
       "    <tr>\n",
       "      <th>0</th>\n",
       "      <td>2750.0</td>\n",
       "      <td>147.0</td>\n",
       "      <td>57.0</td>\n",
       "      <td>170.0</td>\n",
       "    </tr>\n",
       "    <tr>\n",
       "      <th>1</th>\n",
       "      <td>2900.0</td>\n",
       "      <td>164.0</td>\n",
       "      <td>49.0</td>\n",
       "      <td>130.0</td>\n",
       "    </tr>\n",
       "    <tr>\n",
       "      <th>2</th>\n",
       "      <td>2630.0</td>\n",
       "      <td>141.0</td>\n",
       "      <td>47.0</td>\n",
       "      <td>160.0</td>\n",
       "    </tr>\n",
       "    <tr>\n",
       "      <th>3</th>\n",
       "      <td>2800.0</td>\n",
       "      <td>164.0</td>\n",
       "      <td>74.0</td>\n",
       "      <td>135.0</td>\n",
       "    </tr>\n",
       "    <tr>\n",
       "      <th>4</th>\n",
       "      <td>3000.0</td>\n",
       "      <td>132.0</td>\n",
       "      <td>65.0</td>\n",
       "      <td>150.0</td>\n",
       "    </tr>\n",
       "  </tbody>\n",
       "</table>\n",
       "</div>"
      ],
      "text/plain": [
       "   Viscosity   Temp  Stir   Time\n",
       "0     2750.0  147.0  57.0  170.0\n",
       "1     2900.0  164.0  49.0  130.0\n",
       "2     2630.0  141.0  47.0  160.0\n",
       "3     2800.0  164.0  74.0  135.0\n",
       "4     3000.0  132.0  65.0  150.0"
      ]
     },
     "execution_count": 3,
     "metadata": {},
     "output_type": "execute_result"
    }
   ],
   "source": [
    "df.head()"
   ]
  },
  {
   "cell_type": "code",
   "execution_count": 4,
   "id": "7996b5fc",
   "metadata": {
    "scrolled": true
   },
   "outputs": [
    {
     "data": {
      "text/html": [
       "<div>\n",
       "<style scoped>\n",
       "    .dataframe tbody tr th:only-of-type {\n",
       "        vertical-align: middle;\n",
       "    }\n",
       "\n",
       "    .dataframe tbody tr th {\n",
       "        vertical-align: top;\n",
       "    }\n",
       "\n",
       "    .dataframe thead th {\n",
       "        text-align: right;\n",
       "    }\n",
       "</style>\n",
       "<table border=\"1\" class=\"dataframe\">\n",
       "  <thead>\n",
       "    <tr style=\"text-align: right;\">\n",
       "      <th></th>\n",
       "      <th>Viscosity</th>\n",
       "      <th>Temp</th>\n",
       "      <th>Stir</th>\n",
       "      <th>Time</th>\n",
       "    </tr>\n",
       "  </thead>\n",
       "  <tbody>\n",
       "    <tr>\n",
       "      <th>count</th>\n",
       "      <td>510.000000</td>\n",
       "      <td>510.000000</td>\n",
       "      <td>510.000000</td>\n",
       "      <td>510.000000</td>\n",
       "    </tr>\n",
       "    <tr>\n",
       "      <th>mean</th>\n",
       "      <td>1828.411765</td>\n",
       "      <td>113.029412</td>\n",
       "      <td>98.352941</td>\n",
       "      <td>131.058824</td>\n",
       "    </tr>\n",
       "    <tr>\n",
       "      <th>std</th>\n",
       "      <td>881.647326</td>\n",
       "      <td>45.945208</td>\n",
       "      <td>42.899659</td>\n",
       "      <td>41.797281</td>\n",
       "    </tr>\n",
       "    <tr>\n",
       "      <th>min</th>\n",
       "      <td>251.460000</td>\n",
       "      <td>35.640000</td>\n",
       "      <td>27.918000</td>\n",
       "      <td>58.806000</td>\n",
       "    </tr>\n",
       "    <tr>\n",
       "      <th>25%</th>\n",
       "      <td>1188.000000</td>\n",
       "      <td>78.000000</td>\n",
       "      <td>66.362000</td>\n",
       "      <td>96.840000</td>\n",
       "    </tr>\n",
       "    <tr>\n",
       "      <th>50%</th>\n",
       "      <td>1791.950000</td>\n",
       "      <td>105.831000</td>\n",
       "      <td>90.392000</td>\n",
       "      <td>127.260000</td>\n",
       "    </tr>\n",
       "    <tr>\n",
       "      <th>75%</th>\n",
       "      <td>2528.337500</td>\n",
       "      <td>144.637500</td>\n",
       "      <td>124.381500</td>\n",
       "      <td>162.346500</td>\n",
       "    </tr>\n",
       "    <tr>\n",
       "      <th>max</th>\n",
       "      <td>3915.770000</td>\n",
       "      <td>231.896000</td>\n",
       "      <td>216.342000</td>\n",
       "      <td>240.380000</td>\n",
       "    </tr>\n",
       "  </tbody>\n",
       "</table>\n",
       "</div>"
      ],
      "text/plain": [
       "         Viscosity        Temp        Stir        Time\n",
       "count   510.000000  510.000000  510.000000  510.000000\n",
       "mean   1828.411765  113.029412   98.352941  131.058824\n",
       "std     881.647326   45.945208   42.899659   41.797281\n",
       "min     251.460000   35.640000   27.918000   58.806000\n",
       "25%    1188.000000   78.000000   66.362000   96.840000\n",
       "50%    1791.950000  105.831000   90.392000  127.260000\n",
       "75%    2528.337500  144.637500  124.381500  162.346500\n",
       "max    3915.770000  231.896000  216.342000  240.380000"
      ]
     },
     "execution_count": 4,
     "metadata": {},
     "output_type": "execute_result"
    }
   ],
   "source": [
    "df.describe()"
   ]
  },
  {
   "cell_type": "code",
   "execution_count": 5,
   "id": "8bb8e96d",
   "metadata": {},
   "outputs": [
    {
     "data": {
      "text/plain": [
       "Text(0.5, 0, 'Temperature')"
      ]
     },
     "execution_count": 5,
     "metadata": {},
     "output_type": "execute_result"
    },
    {
     "data": {
      "image/png": "[encoded data removed]",
      "text/plain": [
       "<Figure size 432x288 with 1 Axes>"
      ]
     },
     "metadata": {
      "needs_background": "light"
     },
     "output_type": "display_data"
    }
   ],
   "source": [
    "fig, ax = plt.subplots()\n",
    "ax.scatter(df.Temp, df.Viscosity)\n",
    "ax.set_ylabel(\"Viscosity\")\n",
    "ax.set_xlabel(\"Temperature\")"
   ]
  },
  {
   "cell_type": "code",
   "execution_count": 7,
   "id": "5f204f69",
   "metadata": {},
   "outputs": [
    {
     "data": {
      "text/plain": [
       "Text(0.5, 0, 'Stir')"
      ]
     },
     "execution_count": 7,
     "metadata": {},
     "output_type": "execute_result"
    },
    {
     "data": {
      "image/png": "[encoded data removed]",
      "text/plain": [
       "<Figure size 432x288 with 1 Axes>"
      ]
     },
     "metadata": {
      "needs_background": "light"
     },
     "output_type": "display_data"
    }
   ],
   "source": [
    "fig, ax = plt.subplots()\n",
    "ax.scatter(df.Stir, df.Viscosity)\n",
    "ax.set_ylabel(\"Viscosity\")\n",
    "ax.set_xlabel(\"Stir\")"
   ]
  },
  {
   "cell_type": "code",
   "execution_count": 8,
   "id": "5012f44e",
   "metadata": {},
   "outputs": [
    {
     "data": {
      "text/plain": [
       "Text(0.5, 0, 'Time')"
      ]
     },
     "execution_count": 8,
     "metadata": {},
     "output_type": "execute_result"
    },
    {
     "data": {
      "image/png": "[encoded data removed]",
      "text/plain": [
       "<Figure size 432x288 with 1 Axes>"
      ]
     },
     "metadata": {
      "needs_background": "light"
     },
     "output_type": "display_data"
    }
   ],
   "source": [
    "fig, ax = plt.subplots()\n",
    "ax.scatter(df.Time, df.Viscosity)\n",
    "ax.set_ylabel(\"Viscosity\")\n",
    "ax.set_xlabel(\"Time\")"
   ]
  },
  {
   "cell_type": "markdown",
   "id": "e2291592",
   "metadata": {},
   "source": [
    "### Estudiar la correlacion Pearson product-moment"
   ]
  },
  {
   "cell_type": "code",
   "execution_count": 9,
   "id": "4af0a69c",
   "metadata": {},
   "outputs": [],
   "source": [
    "cm = np.corrcoef(df[[\"Viscosity\", \"Temp\", \"Stir\", \"Time\"]])"
   ]
  },
  {
   "cell_type": "code",
   "execution_count": 10,
   "id": "0550e2c1",
   "metadata": {},
   "outputs": [
    {
     "name": "stdout",
     "output_type": "stream",
     "text": [
      "[[1.         0.99984829 0.99999673 ... 0.99406649 0.9833794  0.9883468 ]\n",
      " [0.99984829 1.         0.99985408 ... 0.99359419 0.9816229  0.98751894]\n",
      " [0.99999673 0.99985408 1.         ... 0.99378526 0.98293671 0.9879549 ]\n",
      " ...\n",
      " [0.99406649 0.99359419 0.99378526 ... 1.         0.9960095  0.99897579]\n",
      " [0.9833794  0.9816229  0.98293671 ... 0.9960095  1.         0.99852181]\n",
      " [0.9883468  0.98751894 0.9879549  ... 0.99897579 0.99852181 1.        ]]\n"
     ]
    }
   ],
   "source": [
    "print(cm)"
   ]
  },
  {
   "cell_type": "code",
   "execution_count": 11,
   "id": "6909fd00",
   "metadata": {},
   "outputs": [
    {
     "data": {
      "image/png": "[encoded data removed]",
      "text/plain": [
       "<Figure size 432x288 with 2 Axes>"
      ]
     },
     "metadata": {
      "needs_background": "light"
     },
     "output_type": "display_data"
    }
   ],
   "source": [
    "# Plot the heatmap\n",
    "import seaborn as sns\n",
    "corr_matrix = df.corr()\n",
    "sns.heatmap(corr_matrix, annot=True)\n",
    "plt.show()"
   ]
  },
  {
   "cell_type": "code",
   "execution_count": 4,
   "id": "5b9fc441",
   "metadata": {},
   "outputs": [
    {
     "name": "stdout",
     "output_type": "stream",
     "text": [
      "        Temp    Stir     Time\n",
      "0    147.000  57.000  170.000\n",
      "1    164.000  49.000  130.000\n",
      "2    141.000  47.000  160.000\n",
      "3    164.000  74.000  135.000\n",
      "4    132.000  65.000  150.000\n",
      "..       ...     ...      ...\n",
      "505   35.640  90.882   59.400\n",
      "506   59.994  74.250   58.806\n",
      "507   36.234  81.972   62.370\n",
      "508   45.738  80.190   74.844\n",
      "509   44.550  84.942   68.310\n",
      "\n",
      "[510 rows x 3 columns]\n"
     ]
    }
   ],
   "source": [
    "X0 = df[[\"Temp\", \"Stir\", \"Time\"]]\n",
    "print(X0)"
   ]
  },
  {
   "cell_type": "code",
   "execution_count": 6,
   "id": "bc230723",
   "metadata": {},
   "outputs": [],
   "source": [
    "y = df.Viscosity"
   ]
  },
  {
   "cell_type": "markdown",
   "id": "abff420f",
   "metadata": {},
   "source": [
    "X es el conjunto de datos de entrada, \"y\" son los datos de salida"
   ]
  },
  {
   "cell_type": "markdown",
   "id": "8a5025d5",
   "metadata": {},
   "source": [
    "## Estandarizado de datos"
   ]
  },
  {
   "cell_type": "code",
   "execution_count": 5,
   "id": "ebec1d9f",
   "metadata": {},
   "outputs": [],
   "source": [
    "# Standarize features (mean = 0, variance = 1)\n",
    "from sklearn.preprocessing import StandardScaler\n",
    "X = StandardScaler().fit_transform(X0)"
   ]
  },
  {
   "cell_type": "code",
   "execution_count": 15,
   "id": "6a38b602",
   "metadata": {},
   "outputs": [
    {
     "name": "stdout",
     "output_type": "stream",
     "text": [
      "[[ 0.74009768 -0.96489213  0.93258244]\n",
      " [ 1.11046691 -1.15155689 -0.02535723]\n",
      " [ 0.60937913 -1.19822308  0.69309752]\n",
      " ...\n",
      " [-1.67309749 -0.38221807 -1.64499371]\n",
      " [-1.46603931 -0.42379764 -1.34626023]\n",
      " [-1.49192158 -0.31291877 -1.50273967]]\n"
     ]
    }
   ],
   "source": [
    "print(X)"
   ]
  },
  {
   "cell_type": "code",
   "execution_count": 7,
   "id": "f84284c4",
   "metadata": {},
   "outputs": [],
   "source": [
    "from sklearn.model_selection import train_test_split\n",
    "X_train, X_test, y_train, y_test = train_test_split(X, y, test_size=0.25, random_state=42)"
   ]
  },
  {
   "cell_type": "markdown",
   "id": "b3b0e0a8",
   "metadata": {},
   "source": [
    "### Funcion de validacion cruzada"
   ]
  },
  {
   "cell_type": "markdown",
   "id": "ce834b40",
   "metadata": {},
   "source": [
    "La funcion de validacion cruzada se utiliza para prevenir el overfitting.\n",
    "El conjunto de entrenamiento se divide en k subconjuntos mas pequeños. En cada ciclo se guarda un subconjunto para el testing y los demas se usan para el training."
   ]
  },
  {
   "cell_type": "code",
   "execution_count": 8,
   "id": "7b21686d",
   "metadata": {},
   "outputs": [],
   "source": [
    "from sklearn.model_selection import cross_val_score\n",
    "\n",
    "# Define a function to get cross validation scores\n",
    "def get_cv_scores(model):\n",
    "    scores = cross_val_score(model, X_train, y_train, cv=5, scoring='r2')\n",
    "    print(\"CV Mean: \", np.mean(scores))\n",
    "    print(\"STD: \", np.std(scores))\n",
    "    print(\"\\n\")"
   ]
  },
  {
   "cell_type": "code",
   "execution_count": 18,
   "id": "05c4c4f4",
   "metadata": {},
   "outputs": [],
   "source": [
    "from sklearn.linear_model import LinearRegression\n",
    "# Train the OLS model\n",
    "lr= LinearRegression()"
   ]
  },
  {
   "cell_type": "code",
   "execution_count": 19,
   "id": "50c31da5",
   "metadata": {},
   "outputs": [],
   "source": [
    "lr_fit = lr.fit(X_train, y_train)"
   ]
  },
  {
   "cell_type": "code",
   "execution_count": 20,
   "id": "47481526",
   "metadata": {},
   "outputs": [],
   "source": [
    "y_pred = lr.predict(X_test)"
   ]
  },
  {
   "cell_type": "code",
   "execution_count": 21,
   "id": "468878c6",
   "metadata": {},
   "outputs": [
    {
     "data": {
      "text/plain": [
       "0.8230765712189341"
      ]
     },
     "execution_count": 21,
     "metadata": {},
     "output_type": "execute_result"
    }
   ],
   "source": [
    "lr.score(X_test, y_test)"
   ]
  },
  {
   "cell_type": "markdown",
   "id": "a6e08f7f",
   "metadata": {},
   "source": [
    "Score obtiene el R^2 del conjunto de datos"
   ]
  },
  {
   "cell_type": "code",
   "execution_count": 22,
   "id": "56d052d5",
   "metadata": {},
   "outputs": [
    {
     "name": "stdout",
     "output_type": "stream",
     "text": [
      "CV Mean:  0.745248452572658\n",
      "STD:  0.026538568703022736\n",
      "\n",
      "\n"
     ]
    }
   ],
   "source": [
    "lr_scores = get_cv_scores(lr)"
   ]
  },
  {
   "cell_type": "code",
   "execution_count": 24,
   "id": "62684fc2",
   "metadata": {},
   "outputs": [
    {
     "name": "stdout",
     "output_type": "stream",
     "text": [
      "Train Score:  0.755014658138448\n",
      "Test Score:  0.8230765712189341\n"
     ]
    }
   ],
   "source": [
    "print(\"Train Score: \", lr.score(X_train, y_train))\n",
    "print(\"Test Score: \", lr.score(X_test, y_test))"
   ]
  },
  {
   "cell_type": "markdown",
   "id": "53c361b1",
   "metadata": {},
   "source": [
    "Si el R^2 del conjunto de testing es mas alto que el del conjunto de entrenamiento significa que no hay sobreajuste"
   ]
  },
  {
   "cell_type": "code",
   "execution_count": 25,
   "id": "e8ad2eed",
   "metadata": {},
   "outputs": [
    {
     "data": {
      "text/plain": [
       "1823.5924333981623"
      ]
     },
     "execution_count": 25,
     "metadata": {},
     "output_type": "execute_result"
    }
   ],
   "source": [
    "lr.intercept_"
   ]
  },
  {
   "cell_type": "code",
   "execution_count": 26,
   "id": "0060ace8",
   "metadata": {},
   "outputs": [
    {
     "name": "stdout",
     "output_type": "stream",
     "text": [
      "Temp:366.9318351202476\n",
      "Stir:-279.5966054423423\n",
      "Time:488.3031177665122\n"
     ]
    }
   ],
   "source": [
    "for coef, col in enumerate(X0.columns):\n",
    "    print(f'{col}:{lr.coef_[coef]}')"
   ]
  },
  {
   "cell_type": "markdown",
   "id": "448261ad",
   "metadata": {},
   "source": [
    "Estos ultimos datos representan los pesos en la funcion de los minimos cuadrados lineales con multiples datos"
   ]
  },
  {
   "cell_type": "markdown",
   "id": "345f81e5",
   "metadata": {},
   "source": [
    "# Ridge Model"
   ]
  },
  {
   "cell_type": "code",
   "execution_count": 12,
   "id": "35d05534",
   "metadata": {},
   "outputs": [],
   "source": [
    "from sklearn.linear_model import Ridge"
   ]
  },
  {
   "cell_type": "code",
   "execution_count": 13,
   "id": "a6262430",
   "metadata": {},
   "outputs": [],
   "source": [
    "# Training Ridge model\n",
    "ridge = Ridge().fit(X_train, y_train)"
   ]
  },
  {
   "cell_type": "code",
   "execution_count": 14,
   "id": "2c2ef1e2",
   "metadata": {},
   "outputs": [
    {
     "name": "stdout",
     "output_type": "stream",
     "text": [
      "CV Mean:  0.745297937750709\n",
      "STD:  0.026700074631851298\n",
      "\n",
      "\n",
      "Train Score:  0.7550088846741698\n",
      "Test Score:  0.8231645885808091\n"
     ]
    }
   ],
   "source": [
    "# Cross validate the model\n",
    "get_cv_scores(ridge)\n",
    "print('Train Score: ', ridge.score(X_train, y_train))\n",
    "print('Test Score: ', ridge.score(X_test, y_test))"
   ]
  },
  {
   "cell_type": "markdown",
   "id": "ce2b9326",
   "metadata": {},
   "source": [
    "### Buscar el hyperparametro optimo a"
   ]
  },
  {
   "cell_type": "code",
   "execution_count": 15,
   "id": "e4805056",
   "metadata": {},
   "outputs": [
    {
     "name": "stdout",
     "output_type": "stream",
     "text": [
      "Fitting 5 folds for each of 13 candidates, totalling 65 fits\n",
      "Best Score:  0.7452979377507091\n",
      "Best Params:  {'alpha': 1.0}\n"
     ]
    }
   ],
   "source": [
    "from sklearn.model_selection import GridSearchCV\n",
    "# Find optimal alpha with grid search\n",
    "alpha = np.logspace(-6, 6, 13)\n",
    "param_grid = dict(alpha=alpha)\n",
    "grid = GridSearchCV(estimator=ridge, param_grid=param_grid, scoring='r2', verbose=1, n_jobs=-1)\n",
    "grid_result = grid.fit(X_train, y_train)\n",
    "print('Best Score: ', grid_result.best_score_)\n",
    "print('Best Params: ', grid_result.best_params_)"
   ]
  },
  {
   "cell_type": "markdown",
   "id": "ef600760",
   "metadata": {},
   "source": [
    "### Ejecutar la regresion con el valor alpha optimo"
   ]
  },
  {
   "cell_type": "code",
   "execution_count": 32,
   "id": "903b48b6",
   "metadata": {},
   "outputs": [
    {
     "name": "stdout",
     "output_type": "stream",
     "text": [
      "CV Mean:  0.745297937750709\n",
      "STD:  0.026700074631851298\n",
      "\n",
      "\n",
      "Train Score:  0.7550088846741698\n",
      "Test Score:  0.8231645885808091\n"
     ]
    }
   ],
   "source": [
    "ridge = Ridge(alpha=1).fit(X_train, y_train)\n",
    "get_cv_scores(ridge)\n",
    "print('Train Score: ', ridge.score(X_train, y_train))\n",
    "print('Test Score: ', ridge.score(X_test, y_test))"
   ]
  },
  {
   "cell_type": "code",
   "execution_count": 33,
   "id": "dd62a94c",
   "metadata": {},
   "outputs": [
    {
     "data": {
      "text/plain": [
       "1823.4835292362886"
      ]
     },
     "execution_count": 33,
     "metadata": {},
     "output_type": "execute_result"
    }
   ],
   "source": [
    "ridge.intercept_"
   ]
  },
  {
   "cell_type": "code",
   "execution_count": 34,
   "id": "0cfb2e97",
   "metadata": {},
   "outputs": [
    {
     "name": "stdout",
     "output_type": "stream",
     "text": [
      "Temp:367.93437368931427\n",
      "Stir:-277.75491514644824\n",
      "Time:485.33610125842574\n"
     ]
    }
   ],
   "source": [
    "for coef, col in enumerate(X0.columns):\n",
    "    print(f'{col}:{ridge.coef_[coef]}')"
   ]
  },
  {
   "cell_type": "markdown",
   "id": "dcf7c09e",
   "metadata": {},
   "source": [
    "#### La funcion RidgeCV() implementa la regresion ridge con validacion cruzada y la busqueda en grid de alpha"
   ]
  },
  {
   "cell_type": "code",
   "execution_count": 35,
   "id": "46ef824c",
   "metadata": {},
   "outputs": [
    {
     "data": {
      "text/plain": [
       "1.0"
      ]
     },
     "execution_count": 35,
     "metadata": {},
     "output_type": "execute_result"
    }
   ],
   "source": [
    "from sklearn import linear_model\n",
    "ridge2 = linear_model.RidgeCV(alphas=np.logspace(-4, 4, 9))\n",
    "ridge2 = ridge2.fit(X_train, y_train)\n",
    "ridge2.alpha_"
   ]
  },
  {
   "cell_type": "code",
   "execution_count": 36,
   "id": "51ea0089",
   "metadata": {},
   "outputs": [
    {
     "data": {
      "text/plain": [
       "RidgeCV(alphas=array([1.e-04, 1.e-03, 1.e-02, 1.e-01, 1.e+00, 1.e+01, 1.e+02, 1.e+03,\n",
       "       1.e+04]))"
      ]
     },
     "execution_count": 36,
     "metadata": {},
     "output_type": "execute_result"
    }
   ],
   "source": [
    "ridge2"
   ]
  },
  {
   "cell_type": "code",
   "execution_count": 37,
   "id": "70d7e6e3",
   "metadata": {},
   "outputs": [
    {
     "name": "stdout",
     "output_type": "stream",
     "text": [
      "Train Score:  0.7550088846741705\n",
      "Test Score:  0.8231645885807995\n"
     ]
    }
   ],
   "source": [
    "print('Train Score: ', ridge2.score(X_train, y_train))\n",
    "print('Test Score: ', ridge2.score(X_test, y_test))"
   ]
  },
  {
   "cell_type": "markdown",
   "id": "171dafe0",
   "metadata": {},
   "source": [
    "# Lasso regression"
   ]
  },
  {
   "cell_type": "markdown",
   "id": "95b925b4",
   "metadata": {},
   "source": [
    "Lasso es un modelo de penalizacion que introduce terminos para reducir la complejidad del modelo"
   ]
  },
  {
   "cell_type": "markdown",
   "id": "fd93cdef",
   "metadata": {},
   "source": [
    "Lasso entrena modelos lineales con regularizacion L1"
   ]
  },
  {
   "cell_type": "code",
   "execution_count": 41,
   "id": "ab8ed559",
   "metadata": {},
   "outputs": [
    {
     "name": "stdout",
     "output_type": "stream",
     "text": [
      "CV Mean:  0.7452514109378442\n",
      "STD:  0.02662362132275073\n",
      "\n",
      "\n",
      "Train Score:  0.7550094037403817\n",
      "Test Score:  0.8231436214100528\n"
     ]
    }
   ],
   "source": [
    "from sklearn.linear_model import Lasso\n",
    "# Train the model\n",
    "lasso = Lasso().fit(X_train, y_train)\n",
    "\n",
    "# Get cross validate scores\n",
    "get_cv_scores(lasso)\n",
    "print('Train Score: ', lasso.score(X_train, y_train))\n",
    "print('Test Score: ', lasso.score(X_test, y_test))"
   ]
  },
  {
   "cell_type": "code",
   "execution_count": 42,
   "id": "39fda755",
   "metadata": {},
   "outputs": [
    {
     "name": "stdout",
     "output_type": "stream",
     "text": [
      "Fitting 5 folds for each of 9 candidates, totalling 45 fits\n",
      "Best Score:  0.7452514109378442\n",
      "Best Params:  {'alpha': 1.0}\n"
     ]
    }
   ],
   "source": [
    "alpha = np.logspace(-4, 4, 9)\n",
    "param_grid = dict(alpha=alpha)\n",
    "grid = GridSearchCV(estimator=lasso, param_grid=param_grid, scoring='r2', verbose=1, n_jobs=-1)\n",
    "grid_result = grid.fit(X_train, y_train)\n",
    "print('Best Score: ', grid_result.best_score_)\n",
    "print('Best Params: ', grid_result.best_params_)"
   ]
  },
  {
   "cell_type": "code",
   "execution_count": 43,
   "id": "4675d4a1",
   "metadata": {},
   "outputs": [
    {
     "name": "stdout",
     "output_type": "stream",
     "text": [
      "CV Mean:  0.7452514109378442\n",
      "STD:  0.02662362132275073\n",
      "\n",
      "\n",
      "Train Score:  0.7550094037403817\n",
      "Test Score:  0.8231436214100528\n"
     ]
    }
   ],
   "source": [
    "lasso = Lasso(alpha=1).fit(X_train, y_train)\n",
    "get_cv_scores(lasso)\n",
    "print('Train Score: ', lasso.score(X_train, y_train))\n",
    "print('Test Score: ', lasso.score(X_test, y_test))"
   ]
  },
  {
   "cell_type": "markdown",
   "id": "aa6257e1",
   "metadata": {},
   "source": [
    "#### LassoCV() implementa validacion cruzada, busqueda en el grid y el modelo lasso en un solo paso"
   ]
  },
  {
   "cell_type": "code",
   "execution_count": 46,
   "id": "0c05b7be",
   "metadata": {},
   "outputs": [
    {
     "data": {
      "text/plain": [
       "0.1"
      ]
     },
     "execution_count": 46,
     "metadata": {},
     "output_type": "execute_result"
    }
   ],
   "source": [
    "lasso2 = linear_model.LassoCV(alphas=np.logspace(-4,4,9))\n",
    "lasso2 = lasso2.fit(X_train, y_train)\n",
    "lasso2.alpha_"
   ]
  },
  {
   "cell_type": "code",
   "execution_count": 48,
   "id": "26f79872",
   "metadata": {},
   "outputs": [
    {
     "name": "stdout",
     "output_type": "stream",
     "text": [
      "Train Score:  0.7550146050499655\n",
      "Test Score:  0.823083930864819\n"
     ]
    }
   ],
   "source": [
    "print('Train Score: ', lasso2.score(X_train, y_train))\n",
    "print('Test Score: ', lasso2.score(X_test, y_test))"
   ]
  },
  {
   "cell_type": "code",
   "execution_count": 49,
   "id": "2be03d4d",
   "metadata": {},
   "outputs": [
    {
     "data": {
      "text/plain": [
       "1823.488821403259"
      ]
     },
     "execution_count": 49,
     "metadata": {},
     "output_type": "execute_result"
    }
   ],
   "source": [
    "lasso.intercept_"
   ]
  },
  {
   "cell_type": "code",
   "execution_count": 50,
   "id": "e4adb81f",
   "metadata": {},
   "outputs": [
    {
     "name": "stdout",
     "output_type": "stream",
     "text": [
      "Temp:367.42602098792514\n",
      "Stir:-277.6872234131124\n",
      "Time:485.9864994910504\n"
     ]
    }
   ],
   "source": [
    "for coef, col in enumerate(X0.columns):\n",
    "    print(f'{col}:{lasso.coef_[coef]}')"
   ]
  },
  {
   "cell_type": "code",
   "execution_count": 52,
   "id": "b4690cf1",
   "metadata": {},
   "outputs": [],
   "source": [
    "names = X0.columns"
   ]
  },
  {
   "cell_type": "code",
   "execution_count": 53,
   "id": "4ccec591",
   "metadata": {},
   "outputs": [
    {
     "data": {
      "image/png": "[encoded data removed]",
      "text/plain": [
       "<Figure size 432x288 with 1 Axes>"
      ]
     },
     "metadata": {
      "needs_background": "light"
     },
     "output_type": "display_data"
    }
   ],
   "source": [
    "_ = plt.plot(range(len(names)), lasso.coef_)\n",
    "_ = plt.xticks(range(len(names)), names, rotation=60)\n",
    "_ = plt.ylabel(\"Coefficients\")\n",
    "plt.show()"
   ]
  },
  {
   "cell_type": "markdown",
   "id": "bf7bdb53",
   "metadata": {},
   "source": [
    "# Elastic-net regression"
   ]
  },
  {
   "cell_type": "code",
   "execution_count": 9,
   "id": "bc739dda",
   "metadata": {},
   "outputs": [],
   "source": [
    "from sklearn.linear_model import ElasticNet\n",
    "# Train Elastic-Net model with default alpha = 1 and l1_ratio = 0.5\n",
    "elastic_net = ElasticNet().fit(X_train, y_train)"
   ]
  },
  {
   "cell_type": "code",
   "execution_count": 10,
   "id": "1294b3a2",
   "metadata": {},
   "outputs": [
    {
     "name": "stdout",
     "output_type": "stream",
     "text": [
      "CV Mean:  0.6835083580422305\n",
      "STD:  0.03264751459452257\n",
      "\n",
      "\n"
     ]
    }
   ],
   "source": [
    "# Get cross validate scores\n",
    "get_cv_scores(elastic_net)"
   ]
  },
  {
   "cell_type": "markdown",
   "id": "41e69701",
   "metadata": {},
   "source": [
    "#### Grid search"
   ]
  },
  {
   "cell_type": "code",
   "execution_count": 16,
   "id": "e21c2b86",
   "metadata": {},
   "outputs": [
    {
     "name": "stdout",
     "output_type": "stream",
     "text": [
      "Fitting 5 folds for each of 99 candidates, totalling 495 fits\n",
      "Best Score:  0.745339973105575\n",
      "Best Params:  {'alpha': 0.01, 'l1_ratio': 0.0}\n"
     ]
    },
    {
     "name": "stderr",
     "output_type": "stream",
     "text": [
      "C:\\Users\\xmen9\\anaconda3\\lib\\site-packages\\sklearn\\linear_model\\_coordinate_descent.py:647: ConvergenceWarning: Objective did not converge. You might want to increase the number of iterations, check the scale of the features or consider increasing regularisation. Duality gap: 3.443e+07, tolerance: 2.741e+04 Linear regression models with null weight for the l1 regularization term are more efficiently fitted using one of the solvers implemented in sklearn.linear_model.Ridge/RidgeCV instead.\n",
      "  model = cd_fast.enet_coordinate_descent(\n"
     ]
    }
   ],
   "source": [
    "# Encontrar los hyperparametros optimos\n",
    "alpha = np.logspace(-4, 4, 9)\n",
    "l1_ratio = np.linspace(0,1.0,11)\n",
    "param_grid = dict(alpha=alpha, l1_ratio=l1_ratio)\n",
    "grid = GridSearchCV(estimator=elastic_net, param_grid=param_grid, scoring='r2', verbose=1, n_jobs=-1)\n",
    "grid_result = grid.fit(X_train, y_train)\n",
    "print('Best Score: ', grid_result.best_score_)\n",
    "print('Best Params: ', grid_result.best_params_)"
   ]
  },
  {
   "cell_type": "code",
   "execution_count": 19,
   "id": "804adc40",
   "metadata": {},
   "outputs": [
    {
     "name": "stderr",
     "output_type": "stream",
     "text": [
      "C:\\Users\\xmen9\\anaconda3\\lib\\site-packages\\sklearn\\linear_model\\_coordinate_descent.py:647: ConvergenceWarning: Objective did not converge. You might want to increase the number of iterations, check the scale of the features or consider increasing regularisation. Duality gap: 2.679e+07, tolerance: 2.200e+04 Linear regression models with null weight for the l1 regularization term are more efficiently fitted using one of the solvers implemented in sklearn.linear_model.Ridge/RidgeCV instead.\n",
      "  model = cd_fast.enet_coordinate_descent(\n"
     ]
    },
    {
     "name": "stdout",
     "output_type": "stream",
     "text": [
      "CV Mean:  0.7453399731055713\n",
      "STD:  0.0270179806361164\n",
      "\n",
      "\n",
      "Train Score:  0.7549341034328538\n",
      "Test Score:  0.8233274037418536\n"
     ]
    }
   ],
   "source": [
    "elastic_net = ElasticNet(alpha=0.01, l1_ratio=0, max_iter=10000000).fit(X_train, y_train)\n",
    "get_cv_scores(elastic_net)\n",
    "print('Train Score: ', elastic_net.score(X_train, y_train))\n",
    "print('Test Score: ', elastic_net.score(X_test, y_test))"
   ]
  },
  {
   "cell_type": "code",
   "execution_count": 20,
   "id": "5ec2b985",
   "metadata": {},
   "outputs": [
    {
     "data": {
      "text/plain": [
       "1823.1847414455642"
      ]
     },
     "execution_count": 20,
     "metadata": {},
     "output_type": "execute_result"
    }
   ],
   "source": [
    "elastic_net.intercept_"
   ]
  },
  {
   "cell_type": "code",
   "execution_count": 21,
   "id": "6276e1bd",
   "metadata": {},
   "outputs": [
    {
     "data": {
      "text/plain": [
       "array([ 370.44719984, -272.74901559,  477.37824125])"
      ]
     },
     "execution_count": 21,
     "metadata": {},
     "output_type": "execute_result"
    }
   ],
   "source": [
    "elastic_net.coef_"
   ]
  },
  {
   "cell_type": "code",
   "execution_count": 23,
   "id": "f1a55a1d",
   "metadata": {},
   "outputs": [
    {
     "name": "stdout",
     "output_type": "stream",
     "text": [
      "Temp:370.4471998427463\n",
      "Stir:-272.7490155945542\n",
      "Time:477.3782412474974\n"
     ]
    }
   ],
   "source": [
    "for coef, col in enumerate(X0.columns):\n",
    "    print(f'{col}:{elastic_net.coef_[coef]}')"
   ]
  },
  {
   "cell_type": "code",
   "execution_count": 24,
   "id": "22b226d4",
   "metadata": {},
   "outputs": [
    {
     "name": "stdout",
     "output_type": "stream",
     "text": [
      "         Model  CV Mean  CV STD  Train Score  Test Score\n",
      "0          OLS     0.74    0.07         0.78        0.77\n",
      "1        Ridge     0.74    0.07         0.78        0.77\n",
      "2        Lasso     0.74    0.07         0.78        0.77\n",
      "3  Elastic-Net     0.75    0.03         0.75        0.82\n"
     ]
    }
   ],
   "source": [
    "lists = {'Model':['OLS', 'Ridge', 'Lasso', 'Elastic-Net'],\n",
    "        'CV Mean':[0.74, 0.74, 0.74, 0.75],\n",
    "        'CV STD':[0.07, 0.07, 0.07, 0.03],\n",
    "        'Train Score':[0.78,0.78,0.78,0.75],\n",
    "        'Test Score':[0.77,0.77,0.77,0.82]}\n",
    "model_comparison = pd.DataFrame(lists)\n",
    "print(model_comparison)"
   ]
  },
  {
   "cell_type": "code",
   "execution_count": 25,
   "id": "4cd46e29",
   "metadata": {},
   "outputs": [
    {
     "name": "stdout",
     "output_type": "stream",
     "text": [
      "         Model    a0   a1   a2   a3\n",
      "0          OLS  1860  371 -301  493\n",
      "1        Ridge  1860  375 -295  484\n",
      "2        Lasso  1860  371 -301  493\n",
      "3  Elastic-Net  1823  370 -273  477\n"
     ]
    }
   ],
   "source": [
    "# Linear model intercepts and coefficients\n",
    "lists = {'Model':['OLS', 'Ridge', 'Lasso', 'Elastic-Net'],\n",
    "        'a0':[1860,1860,1860,1823],\n",
    "        'a1':[371,375,371,370],\n",
    "        'a2':[-301,-295,-301,-273],\n",
    "        'a3':[493,484,493,477]}\n",
    "model_comparison = pd.DataFrame(lists)\n",
    "print(model_comparison)"
   ]
  },
  {
   "cell_type": "code",
   "execution_count": null,
   "id": "8fd385f7",
   "metadata": {},
   "outputs": [],
   "source": []
  }
 ],
 "metadata": {
  "kernelspec": {
   "display_name": "Python 3 (ipykernel)",
   "language": "python",
   "name": "python3"
  },
  "language_info": {
   "codemirror_mode": {
    "name": "ipython",
    "version": 3
   },
   "file_extension": ".py",
   "mimetype": "text/x-python",
   "name": "python",
   "nbconvert_exporter": "python",
   "pygments_lexer": "ipython3",
   "version": "3.9.16"
  }
 },
 "nbformat": 4,
 "nbformat_minor": 5
}
